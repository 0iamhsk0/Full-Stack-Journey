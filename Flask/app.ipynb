{
 "cells": [
  {
   "cell_type": "markdown",
   "id": "76b9b81c",
   "metadata": {},
   "source": [
    "### Flask Tutorial\n",
    "\n",
    "- Flask is called as a __microframework__\n",
    "- Its becuase, unlike django its simpler and not complex\n",
    "- We can build dynamic web pages with front end integration\n",
    "- Even has advanced features like database integration, authentication and deployement\n",
    "- We can even create other APIs and Microservices\n"
   ]
  },
  {
   "cell_type": "markdown",
   "id": "e262ef8b",
   "metadata": {},
   "source": [
    "### Flask verify"
   ]
  },
  {
   "cell_type": "code",
   "execution_count": 1,
   "id": "7513608b",
   "metadata": {},
   "outputs": [],
   "source": [
    "from flask import Flask\n",
    "app = Flask(__name__)\n",
    "\n",
    "# a decorator for registering with the given/default URL\n",
    "@app.route('/')\n",
    "def hello():\n",
    "    return 'Hello, Im learning flask';"
   ]
  },
  {
   "cell_type": "markdown",
   "id": "2f02b58f",
   "metadata": {},
   "source": []
  }
 ],
 "metadata": {
  "kernelspec": {
   "display_name": ".venv",
   "language": "python",
   "name": "python3"
  },
  "language_info": {
   "codemirror_mode": {
    "name": "ipython",
    "version": 3
   },
   "file_extension": ".py",
   "mimetype": "text/x-python",
   "name": "python",
   "nbconvert_exporter": "python",
   "pygments_lexer": "ipython3",
   "version": "3.13.5"
  }
 },
 "nbformat": 4,
 "nbformat_minor": 5
}
