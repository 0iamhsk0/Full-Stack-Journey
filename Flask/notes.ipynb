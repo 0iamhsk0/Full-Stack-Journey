{
 "cells": [
  {
   "cell_type": "markdown",
   "id": "76b9b81c",
   "metadata": {},
   "source": [
    "### Flask Tutorial\n",
    "\n",
    "- Flask is called as a __microframework__\n",
    "- Its becuase, unlike django its simpler and not complex\n",
    "- We can build dynamic web pages with front end integration\n",
    "- Even has advanced features like database integration, authentication and deployement\n",
    "- We can even create other APIs and Microservices\n"
   ]
  },
  {
   "cell_type": "markdown",
   "id": "e262ef8b",
   "metadata": {},
   "source": [
    "### Flask verify"
   ]
  },
  {
   "cell_type": "code",
   "execution_count": 3,
   "id": "7513608b",
   "metadata": {},
   "outputs": [
    {
     "name": "stdout",
     "output_type": "stream",
     "text": [
      " * Serving Flask app '__main__'\n",
      " * Debug mode: on\n"
     ]
    },
    {
     "name": "stderr",
     "output_type": "stream",
     "text": [
      "WARNING: This is a development server. Do not use it in a production deployment. Use a production WSGI server instead.\n",
      " * Running on http://127.0.0.1:5000\n",
      "Press CTRL+C to quit\n",
      " * Restarting with stat\n"
     ]
    },
    {
     "ename": "SystemExit",
     "evalue": "1",
     "output_type": "error",
     "traceback": [
      "An exception has occurred, use %tb to see the full traceback.\n",
      "\u001b[31mSystemExit\u001b[39m\u001b[31m:\u001b[39m 1\n"
     ]
    }
   ],
   "source": [
    "from flask import Flask\n",
    "app = Flask(__name__)\n",
    "\n",
    "# a decorator for registering with the given/default URL\n",
    "@app.route('/')\n",
    "def hello():\n",
    "    return 'Hello, Im learning flask';\n",
    "\n",
    "if __name__ == '__main__':\n",
    "    app.run(debug=True)"
   ]
  },
  {
   "cell_type": "markdown",
   "id": "2f02b58f",
   "metadata": {},
   "source": []
  }
 ],
 "metadata": {
  "kernelspec": {
   "display_name": ".venv",
   "language": "python",
   "name": "python3"
  },
  "language_info": {
   "codemirror_mode": {
    "name": "ipython",
    "version": 3
   },
   "file_extension": ".py",
   "mimetype": "text/x-python",
   "name": "python",
   "nbconvert_exporter": "python",
   "pygments_lexer": "ipython3",
   "version": "3.13.5"
  }
 },
 "nbformat": 4,
 "nbformat_minor": 5
}
