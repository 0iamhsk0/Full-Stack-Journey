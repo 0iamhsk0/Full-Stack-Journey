{
 "cells": [
  {
   "cell_type": "markdown",
   "id": "76b9b81c",
   "metadata": {},
   "source": [
    "### Flask Tutorial\n",
    "\n",
    "- Flask is called as a __microframework__\n",
    "- Its becuase, unlike django its simpler and not complex\n",
    "- We can build dynamic web pages with front end integration\n",
    "- Even has advanced features like database integration, authentication and deployement\n",
    "- We can even create other APIs and Microservices\n"
   ]
  },
  {
   "cell_type": "markdown",
   "id": "b9af3905",
   "metadata": {},
   "source": [
    "### Flask verify"
   ]
  },
  {
   "cell_type": "code",
   "execution_count": 3,
   "id": "7513608b",
   "metadata": {},
   "outputs": [
    {
     "name": "stdout",
     "output_type": "stream",
     "text": [
      " * Serving Flask app '__main__'\n",
      " * Debug mode: on\n"
     ]
    },
    {
     "name": "stderr",
     "output_type": "stream",
     "text": [
      "WARNING: This is a development server. Do not use it in a production deployment. Use a production WSGI server instead.\n",
      " * Running on http://127.0.0.1:5000\n",
      "Press CTRL+C to quit\n",
      " * Restarting with stat\n"
     ]
    },
    {
     "ename": "SystemExit",
     "evalue": "1",
     "output_type": "error",
     "traceback": [
      "An exception has occurred, use %tb to see the full traceback.\n",
      "\u001b[31mSystemExit\u001b[39m\u001b[31m:\u001b[39m 1\n"
     ]
    }
   ],
   "source": [
    "from flask import Flask\n",
    "app = Flask(__name__)\n",
    "\n",
    "# a decorator for registering with the given/default URL\n",
    "@app.route('/')\n",
    "def hello():\n",
    "    return 'Hello, Im learning flask';\n",
    "\n",
    "if __name__ == '__main__':\n",
    "    app.run(debug=True)"
   ]
  },
  {
   "cell_type": "markdown",
   "id": "1e8fe860",
   "metadata": {},
   "source": [
    "### What is `@app.route()`?\n",
    "It's a decorator to bind a URL to a function.\n",
    "\n",
    "### `app.run(debug=True)`\n",
    "Starts the Flask development server and enables live reloading + error logs."
   ]
  },
  {
   "cell_type": "markdown",
   "id": "228e0de3",
   "metadata": {},
   "source": [
    "### Templates\n",
    "\n",
    "- We use jinja2 for HTML rendering\n",
    "- We create different path decorators for different pages, and for that we need to render and every HTML files for every new decorator\n"
   ]
  },
  {
   "cell_type": "markdown",
   "id": "e816c0e2",
   "metadata": {},
   "source": [
    "### Static\n",
    "\n",
    "- These are the CSS files\n",
    "- And here we store the images too\n"
   ]
  },
  {
   "cell_type": "markdown",
   "id": "8d0ea67a",
   "metadata": {},
   "source": [
    "## Jinja2\n",
    "\n",
    "- Jinja2 is a renderer for HTML\n",
    "- commonly used for `Flask` and `Django` for creating dynamic HTML content\n"
   ]
  },
  {
   "cell_type": "markdown",
   "id": "f23ace2b",
   "metadata": {},
   "source": [
    "### Jinja 2 structure\n",
    "\n",
    "Jinja2 lets you to write in python like code using HTML using:\n",
    "- `{{ ... }}` for variables\n",
    "- `{{% ... %}}` for logic like `if, for, etc.`\n",
    "\n",
    "### 1. Variables\n",
    "\n",
    "```\n",
    "ex:\n",
    "<h1>Welcome, {{username}}!</h1>\n",
    "```\n",
    "- username = \"Sai\", then it renders as `<h1>Welcome, Sai!</h1>`\n",
    "\n",
    "### 2. Filters\n",
    "Filters modify variables and are applied using the pipe(`|`) operator\n",
    "\n",
    "Common filters:\n",
    "- `|upper`: Converts text to uppercase\n",
    "- `|lower`: Converts text to lowercase\n",
    "- `|default('value)`: Renders the default value parsed\n",
    "- `|length`: Returns the length of a list or a string\n",
    "\n",
    "```\n",
    "Ex:\n",
    "<p>{{username|upper}}</p> \n",
    "<p>{{name|default(\"Guest\")}}</p>\n",
    "```\n",
    "\n",
    "### 3. Loops\n",
    "Use `{% for %}` to iterate over lists and dictionary\n",
    "\n"
   ]
  },
  {
   "cell_type": "markdown",
   "id": "5374f843",
   "metadata": {},
   "source": []
  }
 ],
 "metadata": {
  "kernelspec": {
   "display_name": ".venv",
   "language": "python",
   "name": "python3"
  },
  "language_info": {
   "codemirror_mode": {
    "name": "ipython",
    "version": 3
   },
   "file_extension": ".py",
   "mimetype": "text/x-python",
   "name": "python",
   "nbconvert_exporter": "python",
   "pygments_lexer": "ipython3",
   "version": "3.13.5"
  }
 },
 "nbformat": 4,
 "nbformat_minor": 5
}
